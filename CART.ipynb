{
 "cells": [
  {
   "cell_type": "code",
   "execution_count": 1,
   "metadata": {
    "execution": {
     "iopub.execute_input": "2022-08-28T06:55:10.132287Z",
     "iopub.status.busy": "2022-08-28T06:55:10.131973Z",
     "iopub.status.idle": "2022-08-28T06:55:10.137962Z",
     "shell.execute_reply": "2022-08-28T06:55:10.137210Z",
     "shell.execute_reply.started": "2022-08-28T06:55:10.132259Z"
    }
   },
   "outputs": [],
   "source": [
    "import matplotlib.pyplot as plt\n",
    "from sklearn.tree import DecisionTreeClassifier\n",
    "from sklearn.tree import plot_tree\n",
    "from sklearn.metrics import classification_report, confusion_matrix\n",
    "from sklearn.metrics import ConfusionMatrixDisplay"
   ]
  },
  {
   "cell_type": "code",
   "execution_count": 79,
   "metadata": {
    "execution": {
     "iopub.execute_input": "2022-08-28T06:55:10.139404Z",
     "iopub.status.busy": "2022-08-28T06:55:10.139111Z",
     "iopub.status.idle": "2022-08-28T06:55:10.150624Z",
     "shell.execute_reply": "2022-08-28T06:55:10.149497Z",
     "shell.execute_reply.started": "2022-08-28T06:55:10.139376Z"
    }
   },
   "outputs": [],
   "source": [
    "# Collecting Data\n",
    "xtrain=train_data_final\n",
    "ytrain=Y"
   ]
  },
  {
   "cell_type": "code",
   "execution_count": 80,
   "metadata": {
    "execution": {
     "iopub.execute_input": "2022-08-28T06:55:10.152099Z",
     "iopub.status.busy": "2022-08-28T06:55:10.151838Z",
     "iopub.status.idle": "2022-08-28T06:55:10.177574Z",
     "shell.execute_reply": "2022-08-28T06:55:10.176552Z",
     "shell.execute_reply.started": "2022-08-28T06:55:10.152073Z"
    }
   },
   "outputs": [],
   "source": [
    "# Intialise Model\n",
    "model = DecisionTreeClassifier(max_depth=3, min_samples_leaf=3)\n",
    "\n",
    "# Train Model\n",
    "model = model.fit(xtrain, ytrain)"
   ]
  },
  {
   "cell_type": "code",
   "execution_count": 81,
   "metadata": {
    "execution": {
     "iopub.execute_input": "2022-08-28T06:55:10.179087Z",
     "iopub.status.busy": "2022-08-28T06:55:10.178697Z",
     "iopub.status.idle": "2022-08-28T06:55:10.981131Z",
     "shell.execute_reply": "2022-08-28T06:55:10.979917Z",
     "shell.execute_reply.started": "2022-08-28T06:55:10.179060Z"
    }
   },
   "outputs": [],
   "source": [
    "# Diagramatic Representation\n",
    "dt_feature_names = list(xtrain.columns)\n",
    "dt_target_names = [str(s) for s in ytrain.unique()]\n",
    "plt.figure(figsize = (20,15))\n",
    "plot_tree(model,feature_names = dt_feature_names, class_names = dt_target_names, filled = True)"
   ]
  },
  {
   "cell_type": "code",
   "execution_count": 82,
   "metadata": {
    "execution": {
     "iopub.execute_input": "2022-08-28T06:55:10.982553Z",
     "iopub.status.busy": "2022-08-28T06:55:10.982320Z",
     "iopub.status.idle": "2022-08-28T06:55:11.010342Z",
     "shell.execute_reply": "2022-08-28T06:55:11.008944Z",
     "shell.execute_reply.started": "2022-08-28T06:55:10.982530Z"
    }
   },
   "outputs": [],
   "source": [
    "# Predicting Values\n",
    "y_pred_test = model.predict(test_data_final)"
   ]
  },
  {
   "cell_type": "code",
   "execution_count": null,
   "metadata": {},
   "outputs": [],
   "source": [
    "# Classification Report\n",
    "print(classification_report(ytrain, y_pred_train))"
   ]
  },
  {
   "cell_type": "code",
   "execution_count": null,
   "metadata": {},
   "outputs": [],
   "source": [
    "# Accuracy Score\n",
    "print('Training-set accuracy score: ',(accuracy_score(ytrain, y_pred_train)))"
   ]
  },
  {
   "cell_type": "code",
   "execution_count": null,
   "metadata": {},
   "outputs": [],
   "source": [
    "# Confusion Matrix\n",
    "ConfusionMatrixDisplay.from_predictions(ytrain, y_pred_train, display_labels=[\"Not Transported\", \"Transported\"])"
   ]
  }
 ],
 "metadata": {
  "kernelspec": {
   "display_name": "Python 3 (ipykernel)",
   "language": "python",
   "name": "python3"
  },
  "language_info": {
   "codemirror_mode": {
    "name": "ipython",
    "version": 3
   },
   "file_extension": ".py",
   "mimetype": "text/x-python",
   "name": "python",
   "nbconvert_exporter": "python",
   "pygments_lexer": "ipython3",
   "version": "3.10.5"
  }
 },
 "nbformat": 4,
 "nbformat_minor": 4
}
