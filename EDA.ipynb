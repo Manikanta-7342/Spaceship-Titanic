{
 "cells": [
  {
   "cell_type": "code",
   "execution_count": 2,
   "metadata": {
    "_cell_guid": "b1076dfc-b9ad-4769-8c92-a6c4dae69d19",
    "_uuid": "8f2839f25d086af736a60e9eeb907d3b93b6e0e5",
    "execution": {
     "iopub.execute_input": "2022-08-28T06:33:44.449805Z",
     "iopub.status.busy": "2022-08-28T06:33:44.448950Z",
     "iopub.status.idle": "2022-08-28T06:33:44.456820Z",
     "shell.execute_reply": "2022-08-28T06:33:44.455886Z",
     "shell.execute_reply.started": "2022-08-28T06:33:44.449778Z"
    }
   },
   "outputs": [],
   "source": [
    "import numpy as np \n",
    "import pandas as pd "
   ]
  },
  {
   "cell_type": "code",
   "execution_count": 3,
   "metadata": {
    "execution": {
     "iopub.execute_input": "2022-08-28T06:33:44.461116Z",
     "iopub.status.busy": "2022-08-28T06:33:44.460624Z",
     "iopub.status.idle": "2022-08-28T06:33:44.571224Z",
     "shell.execute_reply": "2022-08-28T06:33:44.570548Z",
     "shell.execute_reply.started": "2022-08-28T06:33:44.461092Z"
    }
   },
   "outputs": [],
   "source": [
    "# Collecting Data\n",
    "train=pd.read_csv(\"../input/spaceship-titanic/train.csv\")\n",
    "test=pd.read_csv(\"../input/spaceship-titanic/test.csv\")\n",
    "train.info()"
   ]
  },
  {
   "cell_type": "code",
   "execution_count": 4,
   "metadata": {
    "execution": {
     "iopub.execute_input": "2022-08-28T06:33:44.572904Z",
     "iopub.status.busy": "2022-08-28T06:33:44.572526Z",
     "iopub.status.idle": "2022-08-28T06:33:44.577661Z",
     "shell.execute_reply": "2022-08-28T06:33:44.576351Z",
     "shell.execute_reply.started": "2022-08-28T06:33:44.572882Z"
    }
   },
   "outputs": [],
   "source": [
    "#Retreiving \n",
    "Y=train[\"Transported\"]"
   ]
  },
  {
   "cell_type": "code",
   "execution_count": 5,
   "metadata": {
    "execution": {
     "iopub.execute_input": "2022-08-28T06:33:44.580010Z",
     "iopub.status.busy": "2022-08-28T06:33:44.579122Z",
     "iopub.status.idle": "2022-08-28T06:33:44.601837Z",
     "shell.execute_reply": "2022-08-28T06:33:44.600849Z",
     "shell.execute_reply.started": "2022-08-28T06:33:44.579977Z"
    }
   },
   "outputs": [],
   "source": [
    "train_1=train.drop([\"Transported\"],axis=1)\n",
    "data=pd.concat([train_1,test],axis=0).reset_index(drop=True)\n",
    "data.shape"
   ]
  },
  {
   "cell_type": "code",
   "execution_count": 6,
   "metadata": {
    "execution": {
     "iopub.execute_input": "2022-08-28T06:33:44.605224Z",
     "iopub.status.busy": "2022-08-28T06:33:44.604122Z",
     "iopub.status.idle": "2022-08-28T06:33:44.616188Z",
     "shell.execute_reply": "2022-08-28T06:33:44.615246Z",
     "shell.execute_reply.started": "2022-08-28T06:33:44.605191Z"
    }
   },
   "outputs": [],
   "source": [
    "data.isna().sum()"
   ]
  },
  {
   "cell_type": "code",
   "execution_count": 7,
   "metadata": {
    "execution": {
     "iopub.execute_input": "2022-08-28T06:33:44.617470Z",
     "iopub.status.busy": "2022-08-28T06:33:44.616963Z",
     "iopub.status.idle": "2022-08-28T06:33:44.633782Z",
     "shell.execute_reply": "2022-08-28T06:33:44.633061Z",
     "shell.execute_reply.started": "2022-08-28T06:33:44.617448Z"
    }
   },
   "outputs": [],
   "source": [
    "data_1 = data.copy()\n",
    "\n",
    "# Listing Missing Values In Categorical Data\n",
    "list_missing_cat_columns = list((data_1.select_dtypes(['object', 'category']).isna().sum() > 0).index)\n",
    "list_missing_cat_columns"
   ]
  },
  {
   "cell_type": "code",
   "execution_count": 8,
   "metadata": {
    "execution": {
     "iopub.execute_input": "2022-08-28T06:33:44.635898Z",
     "iopub.status.busy": "2022-08-28T06:33:44.635507Z",
     "iopub.status.idle": "2022-08-28T06:33:44.670494Z",
     "shell.execute_reply": "2022-08-28T06:33:44.669520Z",
     "shell.execute_reply.started": "2022-08-28T06:33:44.635876Z"
    }
   },
   "outputs": [],
   "source": [
    "# Filling Missing Values in Categorical Data\n",
    "for col in list_missing_cat_columns:\n",
    "    data_1[col] = data_1[col].fillna(data_1[col].mode()[0])"
   ]
  },
  {
   "cell_type": "code",
   "execution_count": 9,
   "metadata": {
    "execution": {
     "iopub.execute_input": "2022-08-28T06:33:44.672091Z",
     "iopub.status.busy": "2022-08-28T06:33:44.671804Z",
     "iopub.status.idle": "2022-08-28T06:33:44.684902Z",
     "shell.execute_reply": "2022-08-28T06:33:44.684119Z",
     "shell.execute_reply.started": "2022-08-28T06:33:44.672060Z"
    }
   },
   "outputs": [],
   "source": [
    "# Checking Null Values\n",
    "data_1.isna().sum()"
   ]
  },
  {
   "cell_type": "code",
   "execution_count": 10,
   "metadata": {
    "execution": {
     "iopub.execute_input": "2022-08-28T06:33:44.686561Z",
     "iopub.status.busy": "2022-08-28T06:33:44.685833Z",
     "iopub.status.idle": "2022-08-28T06:33:44.698111Z",
     "shell.execute_reply": "2022-08-28T06:33:44.697343Z",
     "shell.execute_reply.started": "2022-08-28T06:33:44.686515Z"
    }
   },
   "outputs": [],
   "source": [
    "# Listing Missing Values In Continuous Data\n",
    "list_missing_numeric_col = list((data_1.select_dtypes(np.number).isna().sum() > 0).index)\n",
    "list_missing_numeric_col"
   ]
  },
  {
   "cell_type": "code",
   "execution_count": 11,
   "metadata": {
    "execution": {
     "iopub.execute_input": "2022-08-28T06:33:44.703973Z",
     "iopub.status.busy": "2022-08-28T06:33:44.703384Z",
     "iopub.status.idle": "2022-08-28T06:33:44.714963Z",
     "shell.execute_reply": "2022-08-28T06:33:44.713764Z",
     "shell.execute_reply.started": "2022-08-28T06:33:44.703949Z"
    }
   },
   "outputs": [],
   "source": [
    "# Filling Missing Values Of Age Column\n",
    "def fill_nans_by_age_and_cryosleep(df):\n",
    "    df[\"RoomService\"] = np.where((df[\"Age\"] < 13) | (df[\"CryoSleep\"] == True), 0, df[\"RoomService\"])\n",
    "    df[\"FoodCourt\"] = np.where((df[\"Age\"] < 13) | (df[\"CryoSleep\"] == True), 0, df[\"FoodCourt\"])\n",
    "    df[\"ShoppingMall\"] = np.where((df[\"Age\"] < 13) | (df[\"CryoSleep\"] == True), 0, df[\"ShoppingMall\"])\n",
    "    df[\"Spa\"] = np.where((df[\"Age\"] < 13) | (df[\"CryoSleep\"] == True), 0, df[\"Spa\"])\n",
    "    df[\"VRDeck\"] = np.where((df[\"Age\"] < 13) | (df[\"CryoSleep\"] == True), 0, df[\"VRDeck\"])\n",
    "    \n",
    "    return df\n",
    "\n",
    "data_1 = fill_nans_by_age_and_cryosleep(data_1)"
   ]
  },
  {
   "cell_type": "code",
   "execution_count": 12,
   "metadata": {
    "execution": {
     "iopub.execute_input": "2022-08-28T06:33:44.717195Z",
     "iopub.status.busy": "2022-08-28T06:33:44.716928Z",
     "iopub.status.idle": "2022-08-28T06:33:44.737534Z",
     "shell.execute_reply": "2022-08-28T06:33:44.736488Z",
     "shell.execute_reply.started": "2022-08-28T06:33:44.717147Z"
    }
   },
   "outputs": [],
   "source": [
    "# Filling Missing Values in Continuous Data\n",
    "for col in list_missing_numeric_col:\n",
    "    data_1[col] = data_1[col].fillna(data_1[col].mean())\n",
    "data_1.isna().sum()"
   ]
  },
  {
   "cell_type": "code",
   "execution_count": 13,
   "metadata": {
    "execution": {
     "iopub.execute_input": "2022-08-28T06:33:44.738841Z",
     "iopub.status.busy": "2022-08-28T06:33:44.738603Z",
     "iopub.status.idle": "2022-08-28T06:33:44.752076Z",
     "shell.execute_reply": "2022-08-28T06:33:44.751072Z",
     "shell.execute_reply.started": "2022-08-28T06:33:44.738819Z"
    }
   },
   "outputs": [],
   "source": [
    "# Treating Outliers\n",
    "def clipping_quantile(dataframe, quantile_values = None, quantile = 0.99):\n",
    "    df = dataframe.copy()\n",
    "    if quantile_values is None:\n",
    "        quantile_values = df[[\"RoomService\", \"FoodCourt\", \"ShoppingMall\", \"Spa\", \"VRDeck\"]].quantile(quantile)\n",
    "    for num_column in [\"RoomService\", \"FoodCourt\", \"ShoppingMall\", \"Spa\", \"VRDeck\"]:\n",
    "        num_values = df[num_column].values\n",
    "        threshold = quantile_values[num_column]\n",
    "        num_values = np.where(num_values > threshold, threshold, num_values)\n",
    "        df[num_column] = num_values\n",
    "    return df      \n",
    "    \n",
    "data_1 = clipping_quantile(data_1, None, 0.99)"
   ]
  },
  {
   "cell_type": "code",
   "execution_count": 15,
   "metadata": {
    "execution": {
     "iopub.execute_input": "2022-08-28T06:33:44.764302Z",
     "iopub.status.busy": "2022-08-28T06:33:44.764012Z",
     "iopub.status.idle": "2022-08-28T06:33:44.782262Z",
     "shell.execute_reply": "2022-08-28T06:33:44.781126Z",
     "shell.execute_reply.started": "2022-08-28T06:33:44.764279Z"
    }
   },
   "outputs": [],
   "source": [
    "data_2=data_1.copy()\n",
    "data_2.info()"
   ]
  },
  {
   "cell_type": "code",
   "execution_count": 16,
   "metadata": {
    "execution": {
     "iopub.execute_input": "2022-08-28T06:33:44.784342Z",
     "iopub.status.busy": "2022-08-28T06:33:44.784025Z",
     "iopub.status.idle": "2022-08-28T06:33:44.802372Z",
     "shell.execute_reply": "2022-08-28T06:33:44.800096Z",
     "shell.execute_reply.started": "2022-08-28T06:33:44.784316Z"
    }
   },
   "outputs": [],
   "source": [
    "# Drop Name, PassengerId Columns\n",
    "data_2=data_2.drop(['Name',\"PassengerId\",],axis=1)\n",
    "data_2.info()"
   ]
  },
  {
   "cell_type": "code",
   "execution_count": null,
   "metadata": {},
   "outputs": [],
   "source": [
    "# Drop Cabin Column\n",
    "data_3=data_3.drop([\"Cabin\"],axis=1)\n",
    "data_3.info()"
   ]
  },
  {
   "cell_type": "code",
   "execution_count": 17,
   "metadata": {
    "execution": {
     "iopub.execute_input": "2022-08-28T06:33:44.804899Z",
     "iopub.status.busy": "2022-08-28T06:33:44.804068Z",
     "iopub.status.idle": "2022-08-28T06:33:44.822754Z",
     "shell.execute_reply": "2022-08-28T06:33:44.821866Z",
     "shell.execute_reply.started": "2022-08-28T06:33:44.804864Z"
    }
   },
   "outputs": [],
   "source": [
    "# Getting Dummies\n",
    "data_3 = pd.get_dummies(data_2, columns = ['HomePlanet', 'CryoSleep', 'Destination', 'VIP'])"
   ]
  },
  {
   "cell_type": "code",
   "execution_count": 19,
   "metadata": {
    "execution": {
     "iopub.execute_input": "2022-08-28T06:33:44.837400Z",
     "iopub.status.busy": "2022-08-28T06:33:44.836963Z",
     "iopub.status.idle": "2022-08-28T06:33:44.842622Z",
     "shell.execute_reply": "2022-08-28T06:33:44.841539Z",
     "shell.execute_reply.started": "2022-08-28T06:33:44.837376Z"
    }
   },
   "outputs": [],
   "source": [
    "train_data_final = data_3.loc[:train.index.max(),  :].copy()\n",
    "test_data_final = data_3.loc[train.index.max() + 1:, :].reset_index(drop = True).copy()"
   ]
  },
  {
   "cell_type": "code",
   "execution_count": 20,
   "metadata": {
    "execution": {
     "iopub.execute_input": "2022-08-28T06:33:44.844146Z",
     "iopub.status.busy": "2022-08-28T06:33:44.843706Z",
     "iopub.status.idle": "2022-08-28T06:33:44.855162Z",
     "shell.execute_reply": "2022-08-28T06:33:44.854553Z",
     "shell.execute_reply.started": "2022-08-28T06:33:44.844121Z"
    }
   },
   "outputs": [],
   "source": [
    "# Final Data To Train Models\n",
    "test_data_final.shape"
   ]
  }
 ],
 "metadata": {
  "kernelspec": {
   "display_name": "Python 3 (ipykernel)",
   "language": "python",
   "name": "python3"
  },
  "language_info": {
   "codemirror_mode": {
    "name": "ipython",
    "version": 3
   },
   "file_extension": ".py",
   "mimetype": "text/x-python",
   "name": "python",
   "nbconvert_exporter": "python",
   "pygments_lexer": "ipython3",
   "version": "3.10.5"
  }
 },
 "nbformat": 4,
 "nbformat_minor": 4
}
