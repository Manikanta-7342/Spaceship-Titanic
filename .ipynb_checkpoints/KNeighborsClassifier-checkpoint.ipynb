{
 "cells": [
  {
   "cell_type": "code",
   "execution_count": null,
   "id": "94ba19a2",
   "metadata": {},
   "outputs": [],
   "source": [
    "from sklearn.neighbors import KNeighborsClassifier\n",
    "from sklearn.metrics import accuracy_score\n",
    "from sklearn.metrics import classification_report\n",
    "from sklearn.metrics import ConfusionMatrixDisplay"
   ]
  },
  {
   "cell_type": "code",
   "execution_count": null,
   "id": "6de518b4",
   "metadata": {},
   "outputs": [],
   "source": [
    "# Initialise Model\n",
    "model = KNeighborsClassifier(n_neighbors=5,metric='minkowski', p=2)\n",
    "\n",
    "# Train Model\n",
    "model.fit(train_data_final, Y)"
   ]
  },
  {
   "cell_type": "code",
   "execution_count": null,
   "id": "3829b540",
   "metadata": {},
   "outputs": [],
   "source": [
    "# Predicting Values\n",
    "y_knn_pred_train = model7.predict(train_data_final)"
   ]
  },
  {
   "cell_type": "code",
   "execution_count": null,
   "id": "e10a4eb0",
   "metadata": {},
   "outputs": [],
   "source": [
    "# Classification Report\n",
    "print(classification_report(Y, y_knn_pred_train))"
   ]
  },
  {
   "cell_type": "code",
   "execution_count": null,
   "id": "2488e420",
   "metadata": {},
   "outputs": [],
   "source": [
    "# Accuracy Score\n",
    "print('Training-set accuracy score: ',(accuracy_score(Y, y_knn_pred_train)))"
   ]
  },
  {
   "cell_type": "code",
   "execution_count": null,
   "id": "d5aabb92",
   "metadata": {},
   "outputs": [],
   "source": [
    "# Confusion Matrix\n",
    "ConfusionMatrixDisplay.from_predictions(Y, y_knn_pred_train, display_labels=[\"Not Transported\", \"Transported\"])"
   ]
  }
 ],
 "metadata": {
  "kernelspec": {
   "display_name": "Python 3 (ipykernel)",
   "language": "python",
   "name": "python3"
  },
  "language_info": {
   "codemirror_mode": {
    "name": "ipython",
    "version": 3
   },
   "file_extension": ".py",
   "mimetype": "text/x-python",
   "name": "python",
   "nbconvert_exporter": "python",
   "pygments_lexer": "ipython3",
   "version": "3.10.5"
  }
 },
 "nbformat": 4,
 "nbformat_minor": 5
}
