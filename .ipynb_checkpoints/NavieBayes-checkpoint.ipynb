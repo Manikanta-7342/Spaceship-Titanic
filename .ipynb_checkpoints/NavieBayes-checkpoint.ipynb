{
 "cells": [
  {
   "cell_type": "code",
   "execution_count": null,
   "id": "2aec2fe6",
   "metadata": {},
   "outputs": [],
   "source": [
    "from sklearn.naive_bayes import GaussianNB\n",
    "from sklearn.metrics import accuracy_score\n",
    "from sklearn.metrics import classification_report\n",
    "from sklearn.metrics import ConfusionMatrixDisplay"
   ]
  },
  {
   "cell_type": "code",
   "execution_count": null,
   "id": "82d1e31e",
   "metadata": {},
   "outputs": [],
   "source": [
    "# Initialise Model\n",
    "model = GaussianNB()\n",
    "\n",
    "# Train Model\n",
    "model.fit(train_data_final, Y)"
   ]
  },
  {
   "cell_type": "code",
   "execution_count": null,
   "id": "cb0f2a13",
   "metadata": {},
   "outputs": [],
   "source": [
    "# Predicting Values\n",
    "y_nav_pred_train = model.predict(train_data_final)"
   ]
  },
  {
   "cell_type": "code",
   "execution_count": null,
   "id": "8b0f790d",
   "metadata": {},
   "outputs": [],
   "source": [
    "# Classification Report\n",
    "print(classification_report(Y, y_nav_pred_train))"
   ]
  },
  {
   "cell_type": "code",
   "execution_count": null,
   "id": "cdb58377",
   "metadata": {},
   "outputs": [],
   "source": [
    "# Accuracy Score\n",
    "print('Training-set accuracy score: ',(accuracy_score(Y, y_nav_pred_train)))"
   ]
  },
  {
   "cell_type": "code",
   "execution_count": null,
   "id": "efd02cc3",
   "metadata": {},
   "outputs": [],
   "source": [
    "# Confusion Matrix\n",
    "ConfusionMatrixDisplay.from_predictions(Y, y_nav_pred_train, display_labels=[\"Not Transported\", \"Transported\"])"
   ]
  }
 ],
 "metadata": {
  "kernelspec": {
   "display_name": "Python 3 (ipykernel)",
   "language": "python",
   "name": "python3"
  },
  "language_info": {
   "codemirror_mode": {
    "name": "ipython",
    "version": 3
   },
   "file_extension": ".py",
   "mimetype": "text/x-python",
   "name": "python",
   "nbconvert_exporter": "python",
   "pygments_lexer": "ipython3",
   "version": "3.10.5"
  }
 },
 "nbformat": 4,
 "nbformat_minor": 5
}
