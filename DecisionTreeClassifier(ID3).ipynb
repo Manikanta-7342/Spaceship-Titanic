{
 "cells": [
  {
   "cell_type": "code",
   "execution_count": null,
   "id": "38f798f0",
   "metadata": {},
   "outputs": [],
   "source": [
    "from sklearn.metrics import accuracy_score\n",
    "from sklearn.metrics import classification_report\n",
    "from sklearn.metrics import ConfusionMatrixDisplay\n",
    "from sklearn.tree import DecisionTreeClassifier"
   ]
  },
  {
   "cell_type": "code",
   "execution_count": null,
   "id": "8b3cff04",
   "metadata": {},
   "outputs": [],
   "source": [
    "# Initialise Model\n",
    "model = DecisionTreeClassifier(criterion='entropy', random_state=0)\n",
    "\n",
    "# Train Model\n",
    "model.fit(train_data_final, Y)"
   ]
  },
  {
   "cell_type": "code",
   "execution_count": null,
   "id": "0b187c81",
   "metadata": {},
   "outputs": [],
   "source": [
    "# Predicting Values\n",
    "y_id3_pred_train = model.predict(train_data_final)"
   ]
  },
  {
   "cell_type": "code",
   "execution_count": null,
   "id": "8b5ceac4",
   "metadata": {},
   "outputs": [],
   "source": [
    "# Classification Report\n",
    "print(classification_report(Y, y_id3_pred_train))"
   ]
  },
  {
   "cell_type": "code",
   "execution_count": null,
   "id": "2de90fd7",
   "metadata": {},
   "outputs": [],
   "source": [
    "# Accuracy Score\n",
    "print('Training-set accuracy score: ',(accuracy_score(Y, y_id3_pred_train)))"
   ]
  },
  {
   "cell_type": "code",
   "execution_count": null,
   "id": "177b05d9",
   "metadata": {},
   "outputs": [],
   "source": [
    "# Confusion Matrix\n",
    "ConfusionMatrixDisplay.from_predictions(Y, y_id3_pred_train, display_labels=[\"Not Transported\", \"Transported\"])"
   ]
  }
 ],
 "metadata": {
  "kernelspec": {
   "display_name": "Python 3 (ipykernel)",
   "language": "python",
   "name": "python3"
  },
  "language_info": {
   "codemirror_mode": {
    "name": "ipython",
    "version": 3
   },
   "file_extension": ".py",
   "mimetype": "text/x-python",
   "name": "python",
   "nbconvert_exporter": "python",
   "pygments_lexer": "ipython3",
   "version": "3.10.5"
  }
 },
 "nbformat": 4,
 "nbformat_minor": 5
}
